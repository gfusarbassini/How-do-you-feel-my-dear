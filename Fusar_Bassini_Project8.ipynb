{
  "cells": [
    {
      "cell_type": "markdown",
      "metadata": {
        "id": "JOtRu_pl6pyL"
      },
      "source": [
        "# Load libraries and data"
      ]
    },
    {
      "cell_type": "markdown",
      "metadata": {
        "id": "cvJQyPOePUix"
      },
      "source": [
        "### Libraries"
      ]
    },
    {
      "cell_type": "code",
      "execution_count": 2,
      "metadata": {
        "id": "B5Rxf_k9ESj7"
      },
      "outputs": [],
      "source": [
        "import pandas as pd\n",
        "import numpy as np\n",
        "import re\n",
        "import os\n",
        "\n",
        "import seaborn as sns\n",
        "import matplotlib.pyplot as plt"
      ]
    },
    {
      "cell_type": "code",
      "execution_count": 3,
      "metadata": {
        "id": "S7fM_w4XIU08",
        "colab": {
          "base_uri": "https://localhost:8080/"
        },
        "outputId": "873bf6a5-7555-438d-967c-83faf0229b3b"
      },
      "outputs": [
        {
          "output_type": "stream",
          "name": "stderr",
          "text": [
            "[nltk_data] Downloading package stopwords to /root/nltk_data...\n",
            "[nltk_data]   Unzipping corpora/stopwords.zip.\n",
            "[nltk_data] Downloading package punkt to /root/nltk_data...\n",
            "[nltk_data]   Unzipping tokenizers/punkt.zip.\n",
            "[nltk_data] Downloading package averaged_perceptron_tagger to\n",
            "[nltk_data]     /root/nltk_data...\n",
            "[nltk_data]   Unzipping taggers/averaged_perceptron_tagger.zip.\n",
            "[nltk_data] Downloading package wordnet to /root/nltk_data...\n",
            "[nltk_data] Downloading package omw-1.4 to /root/nltk_data...\n"
          ]
        }
      ],
      "source": [
        "import nltk\n",
        "from nltk.corpus import stopwords, wordnet\n",
        "nltk.download(\"stopwords\")\n",
        "nltk.download('punkt')\n",
        "nltk.download('averaged_perceptron_tagger')\n",
        "stop_words = stopwords.words(\"english\")\n",
        "\n",
        "from nltk.stem import WordNetLemmatizer\n",
        "from nltk.tag import pos_tag\n",
        "from nltk.tokenize import word_tokenize\n",
        "nltk.download('wordnet')\n",
        "nltk.download('omw-1.4')\n",
        "lemmatizer = WordNetLemmatizer()"
      ]
    },
    {
      "cell_type": "code",
      "source": [
        "# Model using SVM\n",
        "\n",
        "from sklearn.svm import LinearSVC\n",
        "from sklearn.metrics import accuracy_score, classification_report, confusion_matrix\n",
        "from sklearn.calibration import CalibratedClassifierCV"
      ],
      "metadata": {
        "id": "y-CHFIML_ITd"
      },
      "execution_count": 22,
      "outputs": []
    },
    {
      "cell_type": "markdown",
      "metadata": {
        "id": "se_usOG6OqLc"
      },
      "source": [
        "### NLP Dataset"
      ]
    },
    {
      "cell_type": "code",
      "source": [
        "df_a = pd.read_csv(r'val.txt', sep = \";\")\n",
        "df_a.columns = ['text', 'sentiment']\n",
        "df_b = pd.read_csv(r'train.txt', sep = \";\")\n",
        "df_b.columns = ['text', 'sentiment']\n",
        "df_c = pd.read_csv(r'test.txt', sep = \";\")\n",
        "df_c.columns = ['text', 'sentiment']\n",
        "df = pd.concat([df_a, df_b, df_c], ignore_index=True)\n",
        "print(df.shape)\n",
        "df.head()"
      ],
      "metadata": {
        "colab": {
          "base_uri": "https://localhost:8080/",
          "height": 223
        },
        "id": "Gooud-i3KdcU",
        "outputId": "270d69fb-90ba-4ce0-c6ff-e1596bd03b45"
      },
      "execution_count": 5,
      "outputs": [
        {
          "output_type": "stream",
          "name": "stdout",
          "text": [
            "(19997, 2)\n"
          ]
        },
        {
          "output_type": "execute_result",
          "data": {
            "text/plain": [
              "                                                text sentiment\n",
              "0  i feel like i am still looking at a blank canv...   sadness\n",
              "1                     i feel like a faithful servant      love\n",
              "2                  i am just feeling cranky and blue     anger\n",
              "3  i can have for a treat or if i am feeling festive       joy\n",
              "4  i start to feel more appreciative of what god ...       joy"
            ],
            "text/html": [
              "\n",
              "  <div id=\"df-e6b43ce9-70c7-4838-bef8-41b15470650e\">\n",
              "    <div class=\"colab-df-container\">\n",
              "      <div>\n",
              "<style scoped>\n",
              "    .dataframe tbody tr th:only-of-type {\n",
              "        vertical-align: middle;\n",
              "    }\n",
              "\n",
              "    .dataframe tbody tr th {\n",
              "        vertical-align: top;\n",
              "    }\n",
              "\n",
              "    .dataframe thead th {\n",
              "        text-align: right;\n",
              "    }\n",
              "</style>\n",
              "<table border=\"1\" class=\"dataframe\">\n",
              "  <thead>\n",
              "    <tr style=\"text-align: right;\">\n",
              "      <th></th>\n",
              "      <th>text</th>\n",
              "      <th>sentiment</th>\n",
              "    </tr>\n",
              "  </thead>\n",
              "  <tbody>\n",
              "    <tr>\n",
              "      <th>0</th>\n",
              "      <td>i feel like i am still looking at a blank canv...</td>\n",
              "      <td>sadness</td>\n",
              "    </tr>\n",
              "    <tr>\n",
              "      <th>1</th>\n",
              "      <td>i feel like a faithful servant</td>\n",
              "      <td>love</td>\n",
              "    </tr>\n",
              "    <tr>\n",
              "      <th>2</th>\n",
              "      <td>i am just feeling cranky and blue</td>\n",
              "      <td>anger</td>\n",
              "    </tr>\n",
              "    <tr>\n",
              "      <th>3</th>\n",
              "      <td>i can have for a treat or if i am feeling festive</td>\n",
              "      <td>joy</td>\n",
              "    </tr>\n",
              "    <tr>\n",
              "      <th>4</th>\n",
              "      <td>i start to feel more appreciative of what god ...</td>\n",
              "      <td>joy</td>\n",
              "    </tr>\n",
              "  </tbody>\n",
              "</table>\n",
              "</div>\n",
              "      <button class=\"colab-df-convert\" onclick=\"convertToInteractive('df-e6b43ce9-70c7-4838-bef8-41b15470650e')\"\n",
              "              title=\"Convert this dataframe to an interactive table.\"\n",
              "              style=\"display:none;\">\n",
              "        \n",
              "  <svg xmlns=\"http://www.w3.org/2000/svg\" height=\"24px\"viewBox=\"0 0 24 24\"\n",
              "       width=\"24px\">\n",
              "    <path d=\"M0 0h24v24H0V0z\" fill=\"none\"/>\n",
              "    <path d=\"M18.56 5.44l.94 2.06.94-2.06 2.06-.94-2.06-.94-.94-2.06-.94 2.06-2.06.94zm-11 1L8.5 8.5l.94-2.06 2.06-.94-2.06-.94L8.5 2.5l-.94 2.06-2.06.94zm10 10l.94 2.06.94-2.06 2.06-.94-2.06-.94-.94-2.06-.94 2.06-2.06.94z\"/><path d=\"M17.41 7.96l-1.37-1.37c-.4-.4-.92-.59-1.43-.59-.52 0-1.04.2-1.43.59L10.3 9.45l-7.72 7.72c-.78.78-.78 2.05 0 2.83L4 21.41c.39.39.9.59 1.41.59.51 0 1.02-.2 1.41-.59l7.78-7.78 2.81-2.81c.8-.78.8-2.07 0-2.86zM5.41 20L4 18.59l7.72-7.72 1.47 1.35L5.41 20z\"/>\n",
              "  </svg>\n",
              "      </button>\n",
              "      \n",
              "  <style>\n",
              "    .colab-df-container {\n",
              "      display:flex;\n",
              "      flex-wrap:wrap;\n",
              "      gap: 12px;\n",
              "    }\n",
              "\n",
              "    .colab-df-convert {\n",
              "      background-color: #E8F0FE;\n",
              "      border: none;\n",
              "      border-radius: 50%;\n",
              "      cursor: pointer;\n",
              "      display: none;\n",
              "      fill: #1967D2;\n",
              "      height: 32px;\n",
              "      padding: 0 0 0 0;\n",
              "      width: 32px;\n",
              "    }\n",
              "\n",
              "    .colab-df-convert:hover {\n",
              "      background-color: #E2EBFA;\n",
              "      box-shadow: 0px 1px 2px rgba(60, 64, 67, 0.3), 0px 1px 3px 1px rgba(60, 64, 67, 0.15);\n",
              "      fill: #174EA6;\n",
              "    }\n",
              "\n",
              "    [theme=dark] .colab-df-convert {\n",
              "      background-color: #3B4455;\n",
              "      fill: #D2E3FC;\n",
              "    }\n",
              "\n",
              "    [theme=dark] .colab-df-convert:hover {\n",
              "      background-color: #434B5C;\n",
              "      box-shadow: 0px 1px 3px 1px rgba(0, 0, 0, 0.15);\n",
              "      filter: drop-shadow(0px 1px 2px rgba(0, 0, 0, 0.3));\n",
              "      fill: #FFFFFF;\n",
              "    }\n",
              "  </style>\n",
              "\n",
              "      <script>\n",
              "        const buttonEl =\n",
              "          document.querySelector('#df-e6b43ce9-70c7-4838-bef8-41b15470650e button.colab-df-convert');\n",
              "        buttonEl.style.display =\n",
              "          google.colab.kernel.accessAllowed ? 'block' : 'none';\n",
              "\n",
              "        async function convertToInteractive(key) {\n",
              "          const element = document.querySelector('#df-e6b43ce9-70c7-4838-bef8-41b15470650e');\n",
              "          const dataTable =\n",
              "            await google.colab.kernel.invokeFunction('convertToInteractive',\n",
              "                                                     [key], {});\n",
              "          if (!dataTable) return;\n",
              "\n",
              "          const docLinkHtml = 'Like what you see? Visit the ' +\n",
              "            '<a target=\"_blank\" href=https://colab.research.google.com/notebooks/data_table.ipynb>data table notebook</a>'\n",
              "            + ' to learn more about interactive tables.';\n",
              "          element.innerHTML = '';\n",
              "          dataTable['output_type'] = 'display_data';\n",
              "          await google.colab.output.renderOutput(dataTable, element);\n",
              "          const docLink = document.createElement('div');\n",
              "          docLink.innerHTML = docLinkHtml;\n",
              "          element.appendChild(docLink);\n",
              "        }\n",
              "      </script>\n",
              "    </div>\n",
              "  </div>\n",
              "  "
            ]
          },
          "metadata": {},
          "execution_count": 5
        }
      ]
    },
    {
      "cell_type": "markdown",
      "metadata": {
        "id": "58PVnagNVSPf"
      },
      "source": [
        "#### Abbreviations"
      ]
    },
    {
      "cell_type": "code",
      "execution_count": 6,
      "metadata": {
        "id": "XACvQOFSVBWs"
      },
      "outputs": [],
      "source": [
        "def convert_abbrev(word):\n",
        "    return abbreviations[word] if word.lower() in abbreviations.keys() else word\n",
        "\n",
        "#list of abbreviations from https://www.kaggle.com/code/nmaguette/up-to-date-list-of-slangs-for-text-preprocessing/notebook\n",
        "abbreviations = {\n",
        "    \"$\" : \" dollar \",\n",
        "    \"€\" : \" euro \",\n",
        "    \"4ao\" : \"for adults only\",\n",
        "    \"a.m\" : \"before midday\",\n",
        "    \"a3\" : \"anytime anywhere anyplace\",\n",
        "    \"aamof\" : \"as a matter of fact\",\n",
        "    \"acct\" : \"account\",\n",
        "    \"adih\" : \"another day in hell\",\n",
        "    \"afaic\" : \"as far as i am concerned\",\n",
        "    \"afaict\" : \"as far as i can tell\",\n",
        "    \"afaik\" : \"as far as i know\",\n",
        "    \"afair\" : \"as far as i remember\",\n",
        "    \"afk\" : \"away from keyboard\",\n",
        "    \"app\" : \"application\",\n",
        "    \"approx\" : \"approximately\",\n",
        "    \"apps\" : \"applications\",\n",
        "    \"asap\" : \"as soon as possible\",\n",
        "    \"asl\" : \"age, sex, location\",\n",
        "    \"atk\" : \"at the keyboard\",\n",
        "    \"ave.\" : \"avenue\",\n",
        "    \"aymm\" : \"are you my mother\",\n",
        "    \"ayor\" : \"at your own risk\", \n",
        "    \"b&b\" : \"bed and breakfast\",\n",
        "    \"b+b\" : \"bed and breakfast\",\n",
        "    \"b.c\" : \"before christ\",\n",
        "    \"b2b\" : \"business to business\",\n",
        "    \"b2c\" : \"business to customer\",\n",
        "    \"b4\" : \"before\",\n",
        "    \"b4n\" : \"bye for now\",\n",
        "    \"b@u\" : \"back at you\",\n",
        "    \"bae\" : \"before anyone else\",\n",
        "    \"bak\" : \"back at keyboard\",\n",
        "    \"bbbg\" : \"bye bye be good\",\n",
        "    \"bbc\" : \"british broadcasting corporation\",\n",
        "    \"bbias\" : \"be back in a second\",\n",
        "    \"bbl\" : \"be back later\",\n",
        "    \"bbs\" : \"be back soon\",\n",
        "    \"be4\" : \"before\",\n",
        "    \"bf\" : \"boyfriend\",\n",
        "    \"bfn\" : \"bye for now\",\n",
        "    \"blvd\" : \"boulevard\",\n",
        "    \"bout\" : \"about\",\n",
        "    \"brb\" : \"be right back\",\n",
        "    \"bros\" : \"brothers\",\n",
        "    \"brt\" : \"be right there\",\n",
        "    \"bsaaw\" : \"big smile and a wink\",\n",
        "    \"btw\" : \"by the way\",\n",
        "    \"bwl\" : \"bursting with laughter\",\n",
        "    \"c/o\" : \"care of\",\n",
        "    \"cet\" : \"central european time\",\n",
        "    \"cf\" : \"compare\",\n",
        "    \"cia\" : \"central intelligence agency\",\n",
        "    \"csl\" : \"can not stop laughing\",\n",
        "    \"cu\" : \"see you\",\n",
        "    \"cul8r\" : \"see you later\",\n",
        "    \"cv\" : \"curriculum vitae\",\n",
        "    \"cwot\" : \"complete waste of time\",\n",
        "    \"cya\" : \"see you\",\n",
        "    \"cyt\" : \"see you tomorrow\",\n",
        "    \"dae\" : \"does anyone else\",\n",
        "    \"dbmib\" : \"do not bother me i am busy\",\n",
        "    \"diy\" : \"do it yourself\",\n",
        "    \"dm\" : \"direct message\",\n",
        "    \"dwh\" : \"during work hours\",\n",
        "    \"e123\" : \"easy as one two three\",\n",
        "    \"eet\" : \"eastern european time\",\n",
        "    \"eg\" : \"example\",\n",
        "    \"embm\" : \"early morning business meeting\",\n",
        "    \"encl\" : \"enclosed\",\n",
        "    \"encl.\" : \"enclosed\",\n",
        "    \"etc\" : \"and so on\",\n",
        "    \"faq\" : \"frequently asked questions\",\n",
        "    \"fawc\" : \"for anyone who cares\",\n",
        "    \"fb\" : \"facebook\",\n",
        "    \"fc\" : \"fingers crossed\",\n",
        "    \"fig\" : \"figure\",\n",
        "    \"fimh\" : \"forever in my heart\", \n",
        "    \"ft.\" : \"feet\",\n",
        "    \"ft\" : \"featuring\",\n",
        "    \"ftl\" : \"for the loss\",\n",
        "    \"ftw\" : \"for the win\",\n",
        "    \"fwiw\" : \"for what it is worth\",\n",
        "    \"fyi\" : \"for your information\",\n",
        "    \"g9\" : \"genius\",\n",
        "    \"gahoy\" : \"get a hold of yourself\",\n",
        "    \"gal\" : \"get a life\",\n",
        "    \"gcse\" : \"general certificate of secondary education\",\n",
        "    \"gfn\" : \"gone for now\",\n",
        "    \"gg\" : \"good game\",\n",
        "    \"gl\" : \"good luck\",\n",
        "    \"glhf\" : \"good luck have fun\",\n",
        "    \"gmt\" : \"greenwich mean time\",\n",
        "    \"gmta\" : \"great minds think alike\",\n",
        "    \"gn\" : \"good night\",\n",
        "    \"g.o.a.t\" : \"greatest of all time\",\n",
        "    \"goat\" : \"greatest of all time\",\n",
        "    \"goi\" : \"get over it\",\n",
        "    \"gps\" : \"global positioning system\",\n",
        "    \"gr8\" : \"great\",\n",
        "    \"gratz\" : \"congratulations\",\n",
        "    \"gyal\" : \"girl\",\n",
        "    \"h&c\" : \"hot and cold\",\n",
        "    \"hp\" : \"horsepower\",\n",
        "    \"hr\" : \"hour\",\n",
        "    \"hrh\" : \"his royal highness\",\n",
        "    \"ht\" : \"height\",\n",
        "    \"ibrb\" : \"i will be right back\",\n",
        "    \"ic\" : \"i see\",\n",
        "    \"icq\" : \"i seek you\",\n",
        "    \"icymi\" : \"in case you missed it\",\n",
        "    \"idc\" : \"i do not care\",\n",
        "    \"idgadf\" : \"i do not give a damn fuck\",\n",
        "    \"idgaf\" : \"i do not give a fuck\",\n",
        "    \"idk\" : \"i do not know\",\n",
        "    \"ie\" : \"that is\",\n",
        "    \"i.e\" : \"that is\",\n",
        "    \"ifyp\" : \"i feel your pain\",\n",
        "    \"IG\" : \"instagram\",\n",
        "    \"iirc\" : \"if i remember correctly\",\n",
        "    \"ilu\" : \"i love you\",\n",
        "    \"ily\" : \"i love you\",\n",
        "    \"imho\" : \"in my humble opinion\",\n",
        "    \"imo\" : \"in my opinion\",\n",
        "    \"imu\" : \"i miss you\",\n",
        "    \"iow\" : \"in other words\",\n",
        "    \"irl\" : \"in real life\",\n",
        "    \"j4f\" : \"just for fun\",\n",
        "    \"jic\" : \"just in case\",\n",
        "    \"jk\" : \"just kidding\",\n",
        "    \"jsyk\" : \"just so you know\",\n",
        "    \"l8r\" : \"later\",\n",
        "    \"lb\" : \"pound\",\n",
        "    \"lbs\" : \"pounds\",\n",
        "    \"ldr\" : \"long distance relationship\",\n",
        "    \"lmao\" : \"laugh my ass off\",\n",
        "    \"lmfao\" : \"laugh my fucking ass off\",\n",
        "    \"lol\" : \"laughing out loud\",\n",
        "    \"ltd\" : \"limited\",\n",
        "    \"ltns\" : \"long time no see\",\n",
        "    \"m8\" : \"mate\",\n",
        "    \"mf\" : \"motherfucker\",\n",
        "    \"mfs\" : \"motherfuckers\",\n",
        "    \"mfw\" : \"my face when\",\n",
        "    \"mofo\" : \"motherfucker\",\n",
        "    \"mph\" : \"miles per hour\",\n",
        "    \"mr\" : \"mister\",\n",
        "    \"mrw\" : \"my reaction when\",\n",
        "    \"ms\" : \"miss\",\n",
        "    \"mte\" : \"my thoughts exactly\",\n",
        "    \"nagi\" : \"not a good idea\",\n",
        "    \"nbc\" : \"national broadcasting company\",\n",
        "    \"nbd\" : \"not big deal\",\n",
        "    \"nfs\" : \"not for sale\",\n",
        "    \"ngl\" : \"not going to lie\",\n",
        "    \"nhs\" : \"national health service\",\n",
        "    \"nrn\" : \"no reply necessary\",\n",
        "    \"nsfl\" : \"not safe for life\",\n",
        "    \"nsfw\" : \"not safe for work\",\n",
        "    \"nth\" : \"nice to have\",\n",
        "    \"nvr\" : \"never\",\n",
        "    \"nyc\" : \"new york city\",\n",
        "    \"oc\" : \"original content\",\n",
        "    \"og\" : \"original\",\n",
        "    \"ohp\" : \"overhead projector\",\n",
        "    \"oic\" : \"oh i see\",\n",
        "    \"omdb\" : \"over my dead body\",\n",
        "    \"omg\" : \"oh my god\",\n",
        "    \"omw\" : \"on my way\",\n",
        "    \"p.a\" : \"per annum\",\n",
        "    \"p.m\" : \"after midday\",\n",
        "    \"pm\" : \"prime minister\",\n",
        "    \"poc\" : \"people of color\",\n",
        "    \"pov\" : \"point of view\",\n",
        "    \"pp\" : \"pages\",\n",
        "    \"ppl\" : \"people\",\n",
        "    \"prw\" : \"parents are watching\",\n",
        "    \"ps\" : \"postscript\",\n",
        "    \"pt\" : \"point\",\n",
        "    \"ptb\" : \"please text back\",\n",
        "    \"pto\" : \"please turn over\",\n",
        "    \"qpsa\" : \"what happens\", #\"que pasa\",\n",
        "    \"ratchet\" : \"rude\",\n",
        "    \"rbtl\" : \"read between the lines\",\n",
        "    \"rlrt\" : \"real life retweet\", \n",
        "    \"rofl\" : \"rolling on the floor laughing\",\n",
        "    \"roflol\" : \"rolling on the floor laughing out loud\",\n",
        "    \"rotflmao\" : \"rolling on the floor laughing my ass off\",\n",
        "    \"rt\" : \"retweet\",\n",
        "    \"ruok\" : \"are you ok\",\n",
        "    \"sfw\" : \"safe for work\",\n",
        "    \"sk8\" : \"skate\",\n",
        "    \"smh\" : \"shake my head\",\n",
        "    \"sq\" : \"square\",\n",
        "    \"srsly\" : \"seriously\", \n",
        "    \"ssdd\" : \"same stuff different day\",\n",
        "    \"tbh\" : \"to be honest\",\n",
        "    \"tbs\" : \"tablespooful\",\n",
        "    \"tbsp\" : \"tablespooful\",\n",
        "    \"tfw\" : \"that feeling when\",\n",
        "    \"thks\" : \"thank you\",\n",
        "    \"tho\" : \"though\",\n",
        "    \"thx\" : \"thank you\",\n",
        "    \"tia\" : \"thanks in advance\",\n",
        "    \"til\" : \"today i learned\",\n",
        "    \"tl;dr\" : \"too long i did not read\",\n",
        "    \"tldr\" : \"too long i did not read\",\n",
        "    \"tmb\" : \"tweet me back\",\n",
        "    \"tntl\" : \"trying not to laugh\",\n",
        "    \"ttyl\" : \"talk to you later\",\n",
        "    \"u\" : \"you\",\n",
        "    \"u2\" : \"you too\",\n",
        "    \"u4e\" : \"yours for ever\",\n",
        "    \"utc\" : \"coordinated universal time\",\n",
        "    \"w/\" : \"with\",\n",
        "    \"w/o\" : \"without\",\n",
        "    \"w8\" : \"wait\",\n",
        "    \"wassup\" : \"what is up\",\n",
        "    \"wb\" : \"welcome back\",\n",
        "    \"wtf\" : \"what the fuck\",\n",
        "    \"wtg\" : \"way to go\",\n",
        "    \"wtpa\" : \"where the party at\",\n",
        "    \"wuf\" : \"where are you from\",\n",
        "    \"wuzup\" : \"what is up\",\n",
        "    \"wywh\" : \"wish you were here\",\n",
        "    \"yd\" : \"yard\",\n",
        "    \"ygtr\" : \"you got that right\",\n",
        "    \"ynk\" : \"you never know\",\n",
        "    \"zzz\" : \"sleeping bored and tired\"\n",
        "}\n"
      ]
    },
    {
      "cell_type": "markdown",
      "metadata": {
        "id": "_txizOtP6zda"
      },
      "source": [
        "#### Balance classes"
      ]
    },
    {
      "cell_type": "code",
      "execution_count": 7,
      "metadata": {
        "colab": {
          "base_uri": "https://localhost:8080/",
          "height": 314
        },
        "id": "PdcjtjLMla4h",
        "outputId": "e2bc021b-a20e-44fd-826b-93d27624dfdb"
      },
      "outputs": [
        {
          "output_type": "execute_result",
          "data": {
            "text/plain": [
              "<matplotlib.axes._subplots.AxesSubplot at 0x7fd6eef61400>"
            ]
          },
          "metadata": {},
          "execution_count": 7
        },
        {
          "output_type": "display_data",
          "data": {
            "text/plain": [
              "<Figure size 432x288 with 1 Axes>"
            ],
            "image/png": "[encoded data removed]"
          },
          "metadata": {
            "needs_background": "light"
          }
        }
      ],
      "source": [
        "v_count = df['sentiment'].value_counts()\n",
        "v_count.plot(kind='bar')"
      ]
    },
    {
      "cell_type": "markdown",
      "metadata": {
        "id": "l2pe0tlX7Ada"
      },
      "source": [
        "# Clean data, tokenization, lemmatization"
      ]
    },
    {
      "cell_type": "code",
      "source": [
        "def flatten(text):\n",
        "  return [i for j in text for i in j]"
      ],
      "metadata": {
        "id": "t_kS1RT38BuU"
      },
      "execution_count": 8,
      "outputs": []
    },
    {
      "cell_type": "code",
      "source": [
        "def lemm_sentence(sentence):\n",
        "  sentence = ' '.join(sentence)\n",
        "  lemmatized_sentence = []\n",
        "  #tokenize the sentence\n",
        "  tokens = word_tokenize(sentence)\n",
        "  #tag the POS of each token\n",
        "  pos_tags = pos_tag(tokens)\n",
        "  #iterate through each token and its POS tag\n",
        "  for token, pos in pos_tags:\n",
        "      #map the POS tag to the first character used by the WordNetLemmatizer\n",
        "      pos = {\n",
        "          'N': 'n',\n",
        "          'V': 'v',\n",
        "          'R': 'r',\n",
        "          'J': 'a'\n",
        "      }.get(pos[0], 'n')\n",
        "      lemmatized_sentence.append(lemmatizer.lemmatize(token, pos=pos))\n",
        "  return lemmatized_sentence"
      ],
      "metadata": {
        "id": "yk2EqeJRJCSq"
      },
      "execution_count": 9,
      "outputs": []
    },
    {
      "cell_type": "code",
      "execution_count": 10,
      "metadata": {
        "id": "gr6sRI_3rO7j"
      },
      "outputs": [],
      "source": [
        "neg_list = [\"not\",\"never\",\"n't\"]"
      ]
    },
    {
      "cell_type": "code",
      "execution_count": 11,
      "metadata": {
        "id": "jWgBj8L7rI9a"
      },
      "outputs": [],
      "source": [
        "def neg_verbs(text):\n",
        "  c = 0\n",
        "  newtext = []\n",
        "  for w in text.split():\n",
        "    if c == 1:\n",
        "      c == 0\n",
        "      for syn in wordnet.synsets(w):\n",
        "        for lm in syn.lemmas()[:1]:\n",
        "          if lm.antonyms():\n",
        "            w = lm.antonyms()[0].name()\n",
        "          break\n",
        "    else:\n",
        "      if w.endswith(tuple(neg_list)):\n",
        "        c = 1\n",
        "    newtext.append(w)\n",
        "  return newtext"
      ]
    },
    {
      "cell_type": "code",
      "source": [
        "def cleaner(text):\n",
        "\n",
        "  text = text.lower()\n",
        "\n",
        "  #remove @nickname, hashtags, links, punctuation  \n",
        "  text = re.sub(\"(@[A-Za-z0-9]+)\",\"\",text)\n",
        "  text = re.sub(\"#\",\"\",text)\n",
        "  text = re.sub(r'http\\S+', '', text)\n",
        "  text = re.sub('\\w+:\\/\\/\\S+', '', text)\n",
        "  text = re.sub('[^a-zA-Z]', ' ', text)\n",
        "  text = re.sub(r'\\d+', ' ', text)\n",
        "\n",
        "  text = neg_verbs(text)\n",
        "  text = [convert_abbrev(w) for w in text]\n",
        "  text = [w.split() for w in text]\n",
        "  text = flatten(text)\n",
        "  \n",
        "  #lemmatization\n",
        "  text = lemm_sentence(text)\n",
        "  \n",
        "  #remove stopwords  \n",
        "  text = [w for w in text if w not in stop_words]\n",
        "  return text"
      ],
      "metadata": {
        "id": "dW_dkzQ0w_ho"
      },
      "execution_count": 12,
      "outputs": []
    },
    {
      "cell_type": "code",
      "execution_count": 13,
      "metadata": {
        "id": "luxp_92fuqA4"
      },
      "outputs": [],
      "source": [
        "df['text'] = [cleaner(tx) for tx in df['text']]"
      ]
    },
    {
      "cell_type": "code",
      "execution_count": 14,
      "metadata": {
        "id": "QudS2hpN-ZK8",
        "colab": {
          "base_uri": "https://localhost:8080/",
          "height": 0
        },
        "outputId": "96c93363-b2d7-4880-f4bf-e9dc39a94018"
      },
      "outputs": [
        {
          "output_type": "execute_result",
          "data": {
            "text/plain": [
              "                                                text sentiment\n",
              "0  [feel, like, still, look, blank, canvas, blank...   sadness\n",
              "1                    [feel, like, faithful, servant]      love\n",
              "2                               [feel, cranky, blue]     anger\n",
              "3                             [treat, feel, festive]       joy\n",
              "4                   [start, feel, appreciative, god]       joy"
            ],
            "text/html": [
              "\n",
              "  <div id=\"df-1db10920-35f1-4149-8ff2-3678466413a0\">\n",
              "    <div class=\"colab-df-container\">\n",
              "      <div>\n",
              "<style scoped>\n",
              "    .dataframe tbody tr th:only-of-type {\n",
              "        vertical-align: middle;\n",
              "    }\n",
              "\n",
              "    .dataframe tbody tr th {\n",
              "        vertical-align: top;\n",
              "    }\n",
              "\n",
              "    .dataframe thead th {\n",
              "        text-align: right;\n",
              "    }\n",
              "</style>\n",
              "<table border=\"1\" class=\"dataframe\">\n",
              "  <thead>\n",
              "    <tr style=\"text-align: right;\">\n",
              "      <th></th>\n",
              "      <th>text</th>\n",
              "      <th>sentiment</th>\n",
              "    </tr>\n",
              "  </thead>\n",
              "  <tbody>\n",
              "    <tr>\n",
              "      <th>0</th>\n",
              "      <td>[feel, like, still, look, blank, canvas, blank...</td>\n",
              "      <td>sadness</td>\n",
              "    </tr>\n",
              "    <tr>\n",
              "      <th>1</th>\n",
              "      <td>[feel, like, faithful, servant]</td>\n",
              "      <td>love</td>\n",
              "    </tr>\n",
              "    <tr>\n",
              "      <th>2</th>\n",
              "      <td>[feel, cranky, blue]</td>\n",
              "      <td>anger</td>\n",
              "    </tr>\n",
              "    <tr>\n",
              "      <th>3</th>\n",
              "      <td>[treat, feel, festive]</td>\n",
              "      <td>joy</td>\n",
              "    </tr>\n",
              "    <tr>\n",
              "      <th>4</th>\n",
              "      <td>[start, feel, appreciative, god]</td>\n",
              "      <td>joy</td>\n",
              "    </tr>\n",
              "  </tbody>\n",
              "</table>\n",
              "</div>\n",
              "      <button class=\"colab-df-convert\" onclick=\"convertToInteractive('df-1db10920-35f1-4149-8ff2-3678466413a0')\"\n",
              "              title=\"Convert this dataframe to an interactive table.\"\n",
              "              style=\"display:none;\">\n",
              "        \n",
              "  <svg xmlns=\"http://www.w3.org/2000/svg\" height=\"24px\"viewBox=\"0 0 24 24\"\n",
              "       width=\"24px\">\n",
              "    <path d=\"M0 0h24v24H0V0z\" fill=\"none\"/>\n",
              "    <path d=\"M18.56 5.44l.94 2.06.94-2.06 2.06-.94-2.06-.94-.94-2.06-.94 2.06-2.06.94zm-11 1L8.5 8.5l.94-2.06 2.06-.94-2.06-.94L8.5 2.5l-.94 2.06-2.06.94zm10 10l.94 2.06.94-2.06 2.06-.94-2.06-.94-.94-2.06-.94 2.06-2.06.94z\"/><path d=\"M17.41 7.96l-1.37-1.37c-.4-.4-.92-.59-1.43-.59-.52 0-1.04.2-1.43.59L10.3 9.45l-7.72 7.72c-.78.78-.78 2.05 0 2.83L4 21.41c.39.39.9.59 1.41.59.51 0 1.02-.2 1.41-.59l7.78-7.78 2.81-2.81c.8-.78.8-2.07 0-2.86zM5.41 20L4 18.59l7.72-7.72 1.47 1.35L5.41 20z\"/>\n",
              "  </svg>\n",
              "      </button>\n",
              "      \n",
              "  <style>\n",
              "    .colab-df-container {\n",
              "      display:flex;\n",
              "      flex-wrap:wrap;\n",
              "      gap: 12px;\n",
              "    }\n",
              "\n",
              "    .colab-df-convert {\n",
              "      background-color: #E8F0FE;\n",
              "      border: none;\n",
              "      border-radius: 50%;\n",
              "      cursor: pointer;\n",
              "      display: none;\n",
              "      fill: #1967D2;\n",
              "      height: 32px;\n",
              "      padding: 0 0 0 0;\n",
              "      width: 32px;\n",
              "    }\n",
              "\n",
              "    .colab-df-convert:hover {\n",
              "      background-color: #E2EBFA;\n",
              "      box-shadow: 0px 1px 2px rgba(60, 64, 67, 0.3), 0px 1px 3px 1px rgba(60, 64, 67, 0.15);\n",
              "      fill: #174EA6;\n",
              "    }\n",
              "\n",
              "    [theme=dark] .colab-df-convert {\n",
              "      background-color: #3B4455;\n",
              "      fill: #D2E3FC;\n",
              "    }\n",
              "\n",
              "    [theme=dark] .colab-df-convert:hover {\n",
              "      background-color: #434B5C;\n",
              "      box-shadow: 0px 1px 3px 1px rgba(0, 0, 0, 0.15);\n",
              "      filter: drop-shadow(0px 1px 2px rgba(0, 0, 0, 0.3));\n",
              "      fill: #FFFFFF;\n",
              "    }\n",
              "  </style>\n",
              "\n",
              "      <script>\n",
              "        const buttonEl =\n",
              "          document.querySelector('#df-1db10920-35f1-4149-8ff2-3678466413a0 button.colab-df-convert');\n",
              "        buttonEl.style.display =\n",
              "          google.colab.kernel.accessAllowed ? 'block' : 'none';\n",
              "\n",
              "        async function convertToInteractive(key) {\n",
              "          const element = document.querySelector('#df-1db10920-35f1-4149-8ff2-3678466413a0');\n",
              "          const dataTable =\n",
              "            await google.colab.kernel.invokeFunction('convertToInteractive',\n",
              "                                                     [key], {});\n",
              "          if (!dataTable) return;\n",
              "\n",
              "          const docLinkHtml = 'Like what you see? Visit the ' +\n",
              "            '<a target=\"_blank\" href=https://colab.research.google.com/notebooks/data_table.ipynb>data table notebook</a>'\n",
              "            + ' to learn more about interactive tables.';\n",
              "          element.innerHTML = '';\n",
              "          dataTable['output_type'] = 'display_data';\n",
              "          await google.colab.output.renderOutput(dataTable, element);\n",
              "          const docLink = document.createElement('div');\n",
              "          docLink.innerHTML = docLinkHtml;\n",
              "          element.appendChild(docLink);\n",
              "        }\n",
              "      </script>\n",
              "    </div>\n",
              "  </div>\n",
              "  "
            ]
          },
          "metadata": {},
          "execution_count": 14
        }
      ],
      "source": [
        "df.head()"
      ]
    },
    {
      "cell_type": "markdown",
      "metadata": {
        "id": "Q1yB-6IOYF4g"
      },
      "source": [
        "# Model: splitting the dataset, TF-IDF, SVM"
      ]
    },
    {
      "cell_type": "code",
      "execution_count": 15,
      "metadata": {
        "id": "eK5psEgOzIvu"
      },
      "outputs": [],
      "source": [
        "X = df['text']\n",
        "y = df['sentiment']"
      ]
    },
    {
      "cell_type": "code",
      "source": [
        "X.shape"
      ],
      "metadata": {
        "colab": {
          "base_uri": "https://localhost:8080/"
        },
        "id": "mqjF7fCvMaVx",
        "outputId": "57c82972-1319-48c6-a206-e3c13a0c307e"
      },
      "execution_count": 16,
      "outputs": [
        {
          "output_type": "execute_result",
          "data": {
            "text/plain": [
              "(19997,)"
            ]
          },
          "metadata": {},
          "execution_count": 16
        }
      ]
    },
    {
      "cell_type": "code",
      "execution_count": 17,
      "metadata": {
        "id": "WYNo_mkPL8qC"
      },
      "outputs": [],
      "source": [
        "# TF-IDF\n",
        "\n",
        "from sklearn.feature_extraction.text import TfidfVectorizer\n",
        "vectorizer = TfidfVectorizer()\n",
        "X = vectorizer.fit_transform(X.astype('U'))"
      ]
    },
    {
      "cell_type": "code",
      "source": [
        "from sklearn.model_selection import train_test_split\n",
        "\n",
        "# split data into train and test set\n",
        "X_train, X_test, y_train, y_test = train_test_split(X, y, train_size=18000, random_state=42)\n",
        "\n",
        "X_train.shape, X_test.shape, y_train.shape, y_test.shape"
      ],
      "metadata": {
        "colab": {
          "base_uri": "https://localhost:8080/"
        },
        "id": "ltA0TsYVGNjK",
        "outputId": "116846e3-5531-426f-9954-bc656632c67d"
      },
      "execution_count": 18,
      "outputs": [
        {
          "output_type": "execute_result",
          "data": {
            "text/plain": [
              "((18000, 13996), (1997, 13996), (18000,), (1997,))"
            ]
          },
          "metadata": {},
          "execution_count": 18
        }
      ]
    },
    {
      "cell_type": "code",
      "source": [
        "len_X_train = 20\n",
        "ind_list = np.zeros(len_X_train)\n",
        "\n",
        "acc_train_list = []\n",
        "acc_test_list = []\n",
        "\n",
        "cv_num = 5\n",
        "sample_length = len_X_train / cv_num\n",
        "for i in range(cv_num):\n",
        "\n",
        "  ind_list = np.zeros(len_X_train)\n",
        "  init = int(i * sample_length)\n",
        "  end = int((i+1) * sample_length)\n",
        "  ind_list[init:end] = 1\n",
        "  print(ind_list)"
      ],
      "metadata": {
        "colab": {
          "base_uri": "https://localhost:8080/"
        },
        "id": "aG4_Xril-G3V",
        "outputId": "c992f5be-3e7e-41d1-c02d-f9ced9d3dc1c"
      },
      "execution_count": 19,
      "outputs": [
        {
          "output_type": "stream",
          "name": "stdout",
          "text": [
            "[1. 1. 1. 1. 0. 0. 0. 0. 0. 0. 0. 0. 0. 0. 0. 0. 0. 0. 0. 0.]\n",
            "[0. 0. 0. 0. 1. 1. 1. 1. 0. 0. 0. 0. 0. 0. 0. 0. 0. 0. 0. 0.]\n",
            "[0. 0. 0. 0. 0. 0. 0. 0. 1. 1. 1. 1. 0. 0. 0. 0. 0. 0. 0. 0.]\n",
            "[0. 0. 0. 0. 0. 0. 0. 0. 0. 0. 0. 0. 1. 1. 1. 1. 0. 0. 0. 0.]\n",
            "[0. 0. 0. 0. 0. 0. 0. 0. 0. 0. 0. 0. 0. 0. 0. 0. 1. 1. 1. 1.]\n"
          ]
        }
      ]
    },
    {
      "cell_type": "code",
      "source": [
        "#cross validation\n",
        "\n",
        "len_X_train = X_train.shape[0]\n",
        "ind_list = np.zeros(len_X_train)\n",
        "\n",
        "acc_train_list = []\n",
        "acc_test_list = []\n",
        "\n",
        "cv_num = 5\n",
        "sample_length = len_X_train / cv_num\n",
        "for i in range(cv_num):\n",
        "\n",
        "  ind_list = np.zeros(len_X_train)\n",
        "  init = int(i * sample_length)\n",
        "  end = int((i+1) * sample_length)\n",
        "  ind_list[init:end] = 1\n",
        "  \n",
        "  #subset\n",
        "  X_train_cv = X_train[ind_list == 0]\n",
        "  X_test_cv = X_train[ind_list == 1]\n",
        "\n",
        "  y_train_cv = y_train[ind_list == 0]\n",
        "  y_test_cv = y_train[ind_list == 1]\n",
        "\n",
        "  #create the model\n",
        "  svm = LinearSVC()\n",
        "  model = CalibratedClassifierCV(svm)\n",
        "  model.fit(X_train_cv, y_train_cv)\n",
        "\n",
        "  #get labels\n",
        "  if i == 0:\n",
        "    keys = range(20)\n",
        "    sent = model.classes_\n",
        "    ind_to_sent = dict(zip(keys, sent))\n",
        "\n",
        "  y_pred_train = model.predict(X_train_cv)\n",
        "  y_pred_multi = model.predict_proba(X_test_cv)\n",
        "  y_pred_test = [np.argmax(y_pt) for y_pt in y_pred_multi]\n",
        "  y_pred_test = [ ind_to_sent[i] for i in y_pred_test]\n",
        "\n",
        "  acc_train = accuracy_score(y_train_cv, y_pred_train)\n",
        "  acc_test = accuracy_score(y_test_cv, y_pred_test)\n",
        "\n",
        "  acc_train_list.append(acc_train)\n",
        "  acc_test_list.append(acc_test)\n",
        "  print(i)\n",
        "  print(f'Training accuracy: {acc_train}')\n",
        "  print(f'Test accuracy: {acc_test}')\n",
        "\n"
      ],
      "metadata": {
        "colab": {
          "base_uri": "https://localhost:8080/"
        },
        "id": "rubNpRmGyuTv",
        "outputId": "37170cab-b06b-40c1-f3f8-074b1baf0266"
      },
      "execution_count": 29,
      "outputs": [
        {
          "output_type": "stream",
          "name": "stdout",
          "text": [
            "0\n",
            "Training accuracy: 0.9743055555555555\n",
            "Test accuracy: 0.8552777777777778\n",
            "1\n",
            "Training accuracy: 0.9725\n",
            "Test accuracy: 0.8586111111111111\n",
            "2\n",
            "Training accuracy: 0.9755555555555555\n",
            "Test accuracy: 0.8547222222222223\n",
            "3\n",
            "Training accuracy: 0.975\n",
            "Test accuracy: 0.8483333333333334\n",
            "4\n",
            "Training accuracy: 0.9746527777777778\n",
            "Test accuracy: 0.8525\n"
          ]
        }
      ]
    },
    {
      "cell_type": "code",
      "source": [
        "print(\"Training accuracy: \",round(np.mean(acc_train_list),3),\"±\",round(np.std(acc_train_list),3))\n",
        "print(\"Test accuracy: \",round(np.mean(acc_test_list),3),\"±\",round(np.std(acc_test_list),3))"
      ],
      "metadata": {
        "id": "w1klvxr0LViY",
        "colab": {
          "base_uri": "https://localhost:8080/"
        },
        "outputId": "93922cf9-3e8d-40bc-8698-2061898fb4ca"
      },
      "execution_count": 25,
      "outputs": [
        {
          "output_type": "stream",
          "name": "stdout",
          "text": [
            "Training accuracy:  0.974 ± 0.001\n",
            "Test accuracy:  0.854 ± 0.003\n"
          ]
        }
      ]
    },
    {
      "cell_type": "code",
      "source": [
        "X_cv_train = X_train\n",
        "y_cv_train = y_train\n",
        "svm = LinearSVC()\n",
        "model = CalibratedClassifierCV(svm)\n",
        "model.fit(X_cv_train, y_cv_train)\n",
        "\n",
        "y_pred_train = model.predict(X_train)\n",
        "y_pred_multi = model.predict_proba(X_test)\n",
        "y_pred_test = [np.argmax(y_pt) for y_pt in y_pred_multi]\n",
        "y_pred_test = [ ind_to_sent[i] for i in y_pred_test]\n",
        "\n",
        "acc_train = accuracy_score(y_train, y_pred_train)\n",
        "acc_test = accuracy_score(y_test, y_pred_test)\n",
        "\n",
        "acc_train_list.append(acc_train)\n",
        "acc_test_list.append(acc_test)\n",
        "\n",
        "print(f'Training accuracy: {acc_train}')\n",
        "print(f'Test accuracy: {acc_test}')"
      ],
      "metadata": {
        "colab": {
          "base_uri": "https://localhost:8080/"
        },
        "id": "AxCC5FW0tuL9",
        "outputId": "8f03d8a2-613a-4fcb-dc98-34bc02279276"
      },
      "execution_count": 30,
      "outputs": [
        {
          "output_type": "stream",
          "name": "stdout",
          "text": [
            "Training accuracy: 0.9705\n",
            "Test accuracy: 0.8637956935403105\n"
          ]
        }
      ]
    },
    {
      "cell_type": "code",
      "source": [
        "print(classification_report(y_test, y_pred_test))"
      ],
      "metadata": {
        "colab": {
          "base_uri": "https://localhost:8080/"
        },
        "id": "Otx-q06cp0Ak",
        "outputId": "ce663318-6a68-4554-c690-c45465f2de73"
      },
      "execution_count": 27,
      "outputs": [
        {
          "output_type": "stream",
          "name": "stdout",
          "text": [
            "              precision    recall  f1-score   support\n",
            "\n",
            "       anger       0.84      0.88      0.86       283\n",
            "        fear       0.83      0.79      0.81       231\n",
            "         joy       0.88      0.91      0.89       660\n",
            "        love       0.74      0.64      0.68       159\n",
            "     sadness       0.90      0.91      0.90       585\n",
            "    surprise       0.85      0.81      0.83        79\n",
            "\n",
            "    accuracy                           0.86      1997\n",
            "   macro avg       0.84      0.82      0.83      1997\n",
            "weighted avg       0.86      0.86      0.86      1997\n",
            "\n"
          ]
        }
      ]
    },
    {
      "cell_type": "code",
      "source": [
        "sent = ['anger', 'fear', 'joy','love','sadness','surprise']\n",
        "sent"
      ],
      "metadata": {
        "id": "r8Cl6peEfNFl",
        "colab": {
          "base_uri": "https://localhost:8080/"
        },
        "outputId": "40142c81-27a3-4c61-b0f4-dd2886305b40"
      },
      "execution_count": 28,
      "outputs": [
        {
          "output_type": "execute_result",
          "data": {
            "text/plain": [
              "['anger', 'fear', 'joy', 'love', 'sadness', 'surprise']"
            ]
          },
          "metadata": {},
          "execution_count": 28
        }
      ]
    },
    {
      "cell_type": "markdown",
      "source": [
        "# Movie Corpus"
      ],
      "metadata": {
        "id": "iydz4KFTDnnm"
      }
    },
    {
      "cell_type": "code",
      "source": [
        "def title_cleaner(x):\n",
        "    return re.sub(r\"[^\\w ]\", \"\", x.lower())"
      ],
      "metadata": {
        "id": "QnppQ2RRHsSA"
      },
      "execution_count": 31,
      "outputs": []
    },
    {
      "cell_type": "code",
      "source": [
        "def filter_head(lines): \n",
        "  #delete common scene headings \n",
        "  patternDel = '(?:INT|EXT|CONTIN|CUT|DISSOLVE|TITLE|FADE|BACK|------------------).[^>]+'\n",
        "  return lines['Character'].str.contains(patternDel, regex=True)"
      ],
      "metadata": {
        "id": "wXeAu36oHs_x"
      },
      "execution_count": 32,
      "outputs": []
    },
    {
      "cell_type": "markdown",
      "source": [
        "## Extract lines\n"
      ],
      "metadata": {
        "id": "gcwxAlAyqFta"
      }
    },
    {
      "cell_type": "code",
      "source": [
        "def get_lines(x):\n",
        " \n",
        "  #delete notes w/o leaving space\n",
        "  x = re.sub(r'\\([^)]*\\)\\s?\\n', '', x)\n",
        "  x = re.sub(r'\\[[^)]*\\]\\s?\\n', '', x)\n",
        "  x = re.sub('\"', '', x)\n",
        "  #delete parenthesis (so that voiceovers and other notes do not create 'fake characters')\n",
        "  x = re.sub(r'\\([^)]*\\)', '', x)\n",
        "  x = re.sub(r'\\[[^)]*\\]', '', x)\n",
        "  \n",
        "  #delete tabs\n",
        "  x = re.sub(\"\\t\", '', x)\n",
        "\n",
        "  #better splitter for some scripts\n",
        "  spl = x.split('\\n')[1::2]\n",
        "  if spl == [''] * len(spl):\n",
        "    x = '\\n'.join(x.split('\\n')[0::2])\n",
        "  #split paragraphs\n",
        "  line = re.split(r'^[^a-z\\n]*$',x, flags = re.DOTALL | re.MULTILINE)\n",
        "  line.pop(0)  \n",
        "  #line = pd.Series([re.sub(r\"\\s+\", ' ', i) for i in line])\n",
        "  line = pd.Series([re.sub(r\"\\n\", ' ', i) for i in line])\n",
        "  \n",
        "  line_auth = re.findall(r'^[^a-z\\n]*$', x, flags = re.DOTALL | re.MULTILINE)\n",
        "  line_auth = pd.Series([re.sub('\\n', '', i) for i in line_auth])\n",
        "  line_auth = pd.Series([re.sub(r'^\\s+', '', i) for i in line_auth])\n",
        "\n",
        "  lines = pd.concat([line_auth,line],axis=1)\n",
        "  lines.columns = ['Character', 'Line']\n",
        "  filter = filter_head(lines)\n",
        "\n",
        "  #delete empty rows\n",
        "  filter2 = lines['Character'] == '' \n",
        "  filter3 = lines['Character'] == ' '\n",
        "\n",
        "  #potential characters with long names are potential mistakes\n",
        "  filter4 = lines['Character'].str.len() > 20\n",
        "  \n",
        "  lines = lines[~filter & ~filter2 & ~filter3 & ~filter4]\n",
        "\n",
        "  return lines"
      ],
      "metadata": {
        "id": "CMrlQmRhHv2h"
      },
      "execution_count": 33,
      "outputs": []
    },
    {
      "cell_type": "code",
      "source": [
        "def get_lines_2(x):\n",
        "  #in this case we consider \"character : line\" (an example is the star wars prequel trilogy)\n",
        "  #delete parenthesis (so that voiceovers and other notes do not create 'fake characters')\n",
        "  x = re.sub('\\[', '(', x)\n",
        "  x = re.sub('\\]', ')', x)\n",
        "  x = re.sub(r'\\([^)]*\\)', '', x)\n",
        "\n",
        "  #select rows containing ':'\n",
        "  line = re.split(r'^[^a-z\\n]*$',x, flags = re.DOTALL | re.MULTILINE)\n",
        "  line = pd.Series([re.sub(r\"\\s+\", ' ', i) for i in line])\n",
        "  \n",
        "  #delete paragraphs that do not use \":\"\n",
        "  patternDel = ':'\n",
        "  filter_dots = line.str.contains(patternDel)\n",
        "\n",
        "  #delete empty rows\n",
        "  filter2 = line == '' \n",
        "  filter3 = line == ' '\n",
        "\n",
        "  line = line[filter_dots & ~filter2 & ~filter3]\n",
        "  \n",
        "  new = line.str.split(pat = \":\", n = 1, expand = True)\n",
        "  if new.empty:\n",
        "    lines = get_lines_3(x)\n",
        "  else:\n",
        "    lines = pd.concat([new[0],new[1]],axis=1)\n",
        "    lines.columns = ['Character', 'Line']\n",
        "    filter = filter_head(lines)\n",
        "  return lines"
      ],
      "metadata": {
        "id": "y-kyvWuQHxgo"
      },
      "execution_count": 34,
      "outputs": []
    },
    {
      "cell_type": "code",
      "source": [
        "def get_lines_3(x):\n",
        "  print(\"trying third  \", end='')\n",
        "\n",
        "  new = x.str.split(pat = \"\\n\", n = 1, expand = True)\n",
        "  \n",
        "  lines = pd.concat([new[0],new[1]],axis=1)\n",
        "  lines.columns = ['Character', 'Line']\n",
        "\n",
        "  lines['Line'] = lines['Line'].str.replace('\\n',' ')\n",
        "  \n",
        "  filter = filter_head(lines)\n",
        "\n",
        "  #delete empty rows\n",
        "  filter2 = lines['Character'] == '' \n",
        "  filter3 = lines['Character'] == ' '\n",
        "\n",
        "  lines = lines[~filter & ~filter2 & ~filter3]\n",
        "\n",
        "\n",
        "  return lines"
      ],
      "metadata": {
        "id": "5GcVc062HzBB"
      },
      "execution_count": 35,
      "outputs": []
    },
    {
      "cell_type": "code",
      "source": [
        "#define a minimum number of lines for the protagonist\n",
        "thr_lines = 20\n",
        "\n",
        "def get_protagonist_lines(x):\n",
        "  lines = get_lines(x)\n",
        "\n",
        "  if lines.empty or lines['Character'].value_counts()[0] < thr_lines:\n",
        "    lines = get_lines_2(x)\n",
        "\n",
        "  protagonist = lines['Character'].value_counts().index.tolist()[0]\n",
        "  protagonist_lines = lines[lines['Character'] == protagonist]['Line']\n",
        "  \n",
        "  return protagonist, protagonist_lines"
      ],
      "metadata": {
        "id": "r-JYAMIZIBh5"
      },
      "execution_count": 36,
      "outputs": []
    },
    {
      "cell_type": "markdown",
      "source": [
        "## Open script"
      ],
      "metadata": {
        "id": "HWry3ceuqlhx"
      }
    },
    {
      "cell_type": "code",
      "source": [
        "from urllib.request import urlopen\n",
        "from bs4 import BeautifulSoup\n",
        "import re\n",
        "\n",
        "'''a method to scrape directly from the web if available -- sometimes offline'''\n",
        "# Fetch the html file\n",
        "#html_script = urlopen('https://imsdb.com/scripts/Star-Wars-Revenge-of-the-Sith.html').read()\n",
        "# Parse the html file\n",
        "#soup = BeautifulSoup(html_script, 'html.parser')\n",
        "\n",
        "# Format the parsed html file\n",
        "#txt_script = soup.prettify()\n",
        "\n",
        "# Print the first few characters\n",
        "#init = txt_script.rfind(\"STAR WARS\")\n",
        "#out = txt_script.rfind(\"END TITLES.\")\n",
        "#txt_script = txt_script[init:out]\n",
        "#txt_script = re.sub('<br/>','\\n',txt_script)\n",
        "#txt_script = re.sub('</b>','',txt_script)\n",
        "\n",
        "base_dir = \"Annie Hall_0075686.txt\"\n",
        "txt_script = open(base_dir).read()\n",
        "\n",
        "print(txt_script[:1200])\n"
      ],
      "metadata": {
        "colab": {
          "base_uri": "https://localhost:8080/"
        },
        "id": "Xbf5ROv5Dk6Z",
        "outputId": "67310735-626c-4fff-a2bc-cb82fafaeebc"
      },
      "execution_count": 37,
      "outputs": [
        {
          "output_type": "stream",
          "name": "stdout",
          "text": [
            "\n",
            "\n",
            "\t\t\t\t\tANNIE HALL\n",
            "\n",
            "\t\t\t      written by\n",
            "\t\t   \t      Woody Allen\n",
            "\t\t\t   Marshall Brickman\n",
            "\n",
            "(Sound and Woody Allen monologue begin)\n",
            "\n",
            "FADE IN:\n",
            "\n",
            "White credits dissolve in and out on black screen.  No sound.\n",
            "\n",
            "\t\t\t\t\t\t\t\tFADE OUT: credits\n",
            "\n",
            "FADE IN:\n",
            "\n",
            "Abrupt medium close-up of Alvy Singer doing a comedy monologue.  He\n",
            "wearing a crumbled sports jacket and tieless shirt; the background is stark.\n",
            "\n",
            "\t\t\t\tALVY         \n",
            "\t\tThere's an old joke.  Uh, two elderly \n",
            "\t\twomen are at a Catskills mountain \n",
            "\t\tresort, and one of 'em says: \"Boy, the \n",
            "\t\tfood at this place is really terrible.\" \n",
            "\t\tThe other one says, \"Yeah, I know, and \n",
            "\t\tsuch ... small portions.\" Well, that's \n",
            "\t\tessentially how I feel about life.  Full \n",
            "\t\tof loneliness and misery and suffering \n",
            "\t\tand unhappiness, and it's all over much \n",
            "\t\ttoo quickly.  The-the other important \n",
            "\t\tjoke for me is one that's, uh, usually \n",
            "\t\tattributed to Groucho Marx, but I think \n",
            "\t\tit appears originally in Freud's wit and \n",
            "\t\tits relation to the unconscious.  And it \n",
            "\t\tgoes like this-I'm paraphrasing: Uh ... \n",
            "\t\t\"I would never wanna belong to any club \n",
            "\t\tthat would have someone like me for a \n",
            "\t\tmember.\" That's the key joke of my adult \n",
            "\t\tlife in terms of my relationships \n"
          ]
        }
      ]
    },
    {
      "cell_type": "code",
      "source": [
        "protagonist, quotes = get_protagonist_lines(txt_script)\n",
        "\n",
        "print('The protagonist is ', protagonist)   \n",
        "print('There are ', len(quotes), ' quotes.' )\n",
        "quotes.head()"
      ],
      "metadata": {
        "id": "V-HzxKOKHgap",
        "colab": {
          "base_uri": "https://localhost:8080/"
        },
        "outputId": "a9122a11-0f43-4cdf-cf23-0e23eac0c085"
      },
      "execution_count": 38,
      "outputs": [
        {
          "output_type": "stream",
          "name": "stdout",
          "text": [
            "The protagonist is  ALVY \n",
            "There are  372  quotes.\n"
          ]
        },
        {
          "output_type": "execute_result",
          "data": {
            "text/plain": [
              "27                          The universe is expanding. \n",
              "31     Well, the universe is everything, and if  it'...\n",
              "36                                   What's the point? \n",
              "88                                        What'd I do? \n",
              "92                                        What'd I do? \n",
              "Name: Line, dtype: object"
            ]
          },
          "metadata": {},
          "execution_count": 38
        }
      ]
    },
    {
      "cell_type": "code",
      "source": [
        "quotes = pd.Series([cleaner(tx) for tx in quotes])\n",
        "\n",
        "quotes2 = vectorizer.transform(quotes.astype('U'))\n",
        "y_pred_multi = model.predict_proba(quotes2)\n",
        "\n",
        "y_pred_test = [np.argmax(y_pt) for y_pt in y_pred_multi]\n",
        "y_pred_test = [ind_to_sent[i] for i in y_pred_test]\n"
      ],
      "metadata": {
        "id": "v8V6TrhQF4Iv"
      },
      "execution_count": 39,
      "outputs": []
    },
    {
      "cell_type": "code",
      "source": [
        "df_final_emot = pd.DataFrame(y_pred_multi)\n",
        "df_final_emot.columns = ['anger', 'fear','joy', 'love', 'sadness', 'surprise']\n",
        "df_final_emot.shape"
      ],
      "metadata": {
        "colab": {
          "base_uri": "https://localhost:8080/"
        },
        "id": "2e1oPrZ-wkr0",
        "outputId": "4416e6db-168b-438f-d24c-352cd75fb2ac"
      },
      "execution_count": 40,
      "outputs": [
        {
          "output_type": "execute_result",
          "data": {
            "text/plain": [
              "(372, 6)"
            ]
          },
          "metadata": {},
          "execution_count": 40
        }
      ]
    },
    {
      "cell_type": "code",
      "source": [
        "df_final_emot.to_csv(\"/content/emotion.csv\", sep = \"$\")"
      ],
      "metadata": {
        "id": "tyZ43MBCwO1t"
      },
      "execution_count": 41,
      "outputs": []
    },
    {
      "cell_type": "code",
      "source": [
        "sent_col = ['red', 'navy', 'green', 'maroon', 'blue', 'grey']"
      ],
      "metadata": {
        "id": "UxePomVUOLuQ"
      },
      "execution_count": 42,
      "outputs": []
    },
    {
      "cell_type": "code",
      "source": [
        "emotion = [i[0] for i in y_pred_multi]\n",
        "\n",
        "plt.plot(emotion)"
      ],
      "metadata": {
        "colab": {
          "base_uri": "https://localhost:8080/",
          "height": 285
        },
        "id": "mII5yDcJIdQc",
        "outputId": "4602c77b-33bd-44b2-f82b-a9ccbfdd6687"
      },
      "execution_count": 43,
      "outputs": [
        {
          "output_type": "execute_result",
          "data": {
            "text/plain": [
              "[<matplotlib.lines.Line2D at 0x7fd6e1e45400>]"
            ]
          },
          "metadata": {},
          "execution_count": 43
        },
        {
          "output_type": "display_data",
          "data": {
            "text/plain": [
              "<Figure size 432x288 with 1 Axes>"
            ],
            "image/png": "[encoded data removed]"
          },
          "metadata": {
            "needs_background": "light"
          }
        }
      ]
    },
    {
      "cell_type": "code",
      "source": [
        "def rollavg(data,n):\n",
        "    d = pd.Series(data)\n",
        "    return d.rolling(n).mean()"
      ],
      "metadata": {
        "id": "cUtgGPUdK54u"
      },
      "execution_count": 44,
      "outputs": []
    },
    {
      "cell_type": "code",
      "source": [
        "import matplotlib\n",
        "matplotlib.use('Agg')\n",
        "from matplotlib.pyplot import figure\n",
        "\n",
        "figure(figsize=(16, 8), dpi=80)\n",
        "\n",
        "for j in range(len(y_pred_multi[0])):\n",
        "  emotion = [i[j] for i in y_pred_multi]\n",
        "  emotion_av = rollavg(emotion,40)\n",
        "  \n",
        "  plt.subplot(2, 3, j+1)\n",
        "  plt.plot(emotion_av, color=sent_col[j])\n",
        "  plt.title(sent[j])\n",
        "plt.show()"
      ],
      "metadata": {
        "id": "lWH7DSLwSmwi",
        "colab": {
          "base_uri": "https://localhost:8080/",
          "height": 550
        },
        "outputId": "4d721760-ab68-4172-e707-0bbe03ea0d7c"
      },
      "execution_count": 45,
      "outputs": [
        {
          "output_type": "display_data",
          "data": {
            "text/plain": [
              "<Figure size 1280x640 with 6 Axes>"
            ],
            "image/png": "[encoded data removed]"
          },
          "metadata": {
            "needs_background": "light"
          }
        }
      ]
    },
    {
      "cell_type": "markdown",
      "source": [
        "#Movie Corpus Complete\n",
        "This section is useful only if one is interested in scraping the whole dataset"
      ],
      "metadata": {
        "id": "SHkjZGHILRT8"
      }
    },
    {
      "cell_type": "code",
      "source": [
        "'''from google.colab import drive\n",
        "drive.mount('/content/drive')'''"
      ],
      "metadata": {
        "id": "aK_zqy6YLW2A"
      },
      "execution_count": null,
      "outputs": []
    },
    {
      "cell_type": "code",
      "source": [
        "'''def check_special(x):\n",
        "  x = re.sub('\\.','',x)\n",
        "  x = re.sub('\\-','',x)\n",
        "  return bool(re.search(r'[^a-zA-Z\\d\\s:]',x))'''"
      ],
      "metadata": {
        "id": "lzthkdjML6TV"
      },
      "execution_count": null,
      "outputs": []
    },
    {
      "cell_type": "code",
      "source": [
        "'''base_dir = \"/content/drive/MyDrive/movie_corpus/raw_texts\"\n",
        "\n",
        "i = 1\n",
        "ncol = 2\n",
        "protagonists_list = []\n",
        "df_lines = pd.DataFrame(np.zeros([1000, ncol])*np.nan)\n",
        "iii = 0\n",
        "for script_name in os.listdir(base_dir):\n",
        "  # open the script\n",
        "  with (open(base_dir + \"/\" + script_name, \"r\", errors=\"ignore\")) as script_file:\n",
        "\n",
        "    movie_name = title_cleaner(\"_\".join(script_name.split(\"_\")[:-1]))\n",
        "    protagonist, lines = get_protagonist_lines(script_file.read())\n",
        "\n",
        "    #lines into lexicon\n",
        "    ###\n",
        "    ###\n",
        "    \n",
        "    if len(protagonist) < 20 and len(lines) > thr_lines and not check_special(protagonist):\n",
        "      #print(i, end='')\n",
        "      #i += 1\n",
        "      #print (\"  -  \", end='')\n",
        "      print(movie_name)#, end='')\n",
        "      #print (\"  -  \", end='')\n",
        "      #print(protagonist)   \n",
        "      protagonists_list.append(protagonist)\n",
        "      lines_list.append(lines)\n",
        "      iii +=1\n",
        "    if iii == ncol:\n",
        "      break\n",
        "protagonists_list'''"
      ],
      "metadata": {
        "id": "iu0H-OWXLgCI"
      },
      "execution_count": null,
      "outputs": []
    }
  ],
  "metadata": {
    "colab": {
      "provenance": [],
      "collapsed_sections": [
        "JOtRu_pl6pyL",
        "cvJQyPOePUix",
        "l2pe0tlX7Ada",
        "gcwxAlAyqFta",
        "SHkjZGHILRT8"
      ]
    },
    "kernelspec": {
      "display_name": "Python 3",
      "name": "python3"
    },
    "language_info": {
      "name": "python"
    }
  },
  "nbformat": 4,
  "nbformat_minor": 0
}